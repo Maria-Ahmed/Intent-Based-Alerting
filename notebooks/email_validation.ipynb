{
 "cells": [
  {
   "cell_type": "markdown",
   "metadata": {},
   "source": [
    "# Email Validation\n",
    "- Please use this notebook to complete assignment two of the data engineering take home challenge.\n",
    "- The goal is to validate email addresses for all companies with `HIGH` buying intent.\n",
    "- Please sign up for a free account at AbstractAPI and use their API for email validation (https://docs.abstractapi.com/email-validation, the free account covers 100 email verifications, which should be plenty).\n",
    "- Your final output should be 2-column table (`email`,`is_email_valid`) and it should not take you longer than 1h to get there."
   ]
  },
  {
   "cell_type": "code",
   "execution_count": 1,
   "metadata": {},
   "outputs": [],
   "source": [
    "import duckdb\n",
    "con = duckdb.connect(\"data/db.duckdb\")\n"
   ]
  },
  {
   "cell_type": "code",
   "execution_count": null,
   "metadata": {},
   "outputs": [],
   "source": [
    "validation_candidates = con.sql(\n",
    "    \"\"\"\n",
    "    select\n",
    "        co.email\n",
    "    from crm.contacts as co\n",
    "    left join crm.companies as c\n",
    "        on co.company_id = c.id\n",
    "    left join crm.customer_buying_intent as bi\n",
    "        on bi.company_id = c.id\n",
    "    where bi.buying_intent = 'HIGH'\n",
    "    \"\"\"\n",
    ").to_df()\n"
   ]
  },
  {
   "cell_type": "code",
   "execution_count": null,
   "metadata": {},
   "outputs": [],
   "source": [
    "# Please use the space below to express your email validation logic in python and write it back into the CRM database.\n"
   ]
  },
  {
   "cell_type": "code",
   "execution_count": null,
   "metadata": {},
   "outputs": [],
   "source": [
    "# Backup: In case you get stuck above, you can run this cell to import a list of validated email addresses from pre-made csv file\n",
    "con.sql(\"create table crm.valid_emails as from read_csv('data/valid_emails.csv')\")\n"
   ]
  }
 ],
 "metadata": {
  "kernelspec": {
   "display_name": "thc",
   "language": "python",
   "name": "python3"
  },
  "language_info": {
   "codemirror_mode": {
    "name": "ipython",
    "version": 3
   },
   "file_extension": ".py",
   "mimetype": "text/x-python",
   "name": "python",
   "nbconvert_exporter": "python",
   "pygments_lexer": "ipython3",
   "version": "3.12.3"
  }
 },
 "nbformat": 4,
 "nbformat_minor": 2
}
