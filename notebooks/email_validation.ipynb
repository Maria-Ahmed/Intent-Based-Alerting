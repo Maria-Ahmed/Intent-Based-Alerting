{
 "cells": [
  {
   "cell_type": "markdown",
   "metadata": {},
   "source": [
    "# Email Validation\n",
    "- Please use this notebook to complete assignment two of the data engineering take home challenge.\n",
    "- As an email verification service, we recommend using https://www.zerobounce.net/api/email-validation-api (the free account covers 100 email verifications, which should be plenty)\n",
    "- Your final output should be 2-column data frame and it should not take you longer than 1h to get there.\n",
    "- Please write your final validation results to `data/valid_emails.csv` and then import it back into the CRM database (you'll need it for the last assignment).\n",
    "- We've prepared an example list of validated email addresses for you. You can that to import it back into the CRM database in case you get stuck."
   ]
  },
  {
   "cell_type": "code",
   "execution_count": null,
   "metadata": {},
   "outputs": [],
   "source": [
    "# example for how to run SQL queries on the local CRM database\n",
    "import duckdb\n",
    "con = duckdb.connect(\"data/db.duckdb\")\n",
    "companies = con.sql(\"select * from crm.companies\").to_df()\n",
    "companies.head()\n"
   ]
  },
  {
   "cell_type": "code",
   "execution_count": null,
   "metadata": {},
   "outputs": [],
   "source": [
    "# Please use the space below for your email validation logic. \n",
    "# You can add any number of notebook cells you need to structure your solution appropriately.\n"
   ]
  },
  {
   "cell_type": "code",
   "execution_count": null,
   "metadata": {},
   "outputs": [],
   "source": [
    "# final step\n",
    "valid_emails.to_csv(\"data/valid_emails.csv\")\n",
    "con.sql(\"create table crm.valid_emails as from read_csv('data/valid_emails.csv')\")\n"
   ]
  }
 ],
 "metadata": {
  "language_info": {
   "name": "python"
  }
 },
 "nbformat": 4,
 "nbformat_minor": 2
}
