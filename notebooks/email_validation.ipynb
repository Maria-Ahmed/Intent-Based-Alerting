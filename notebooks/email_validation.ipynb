{
 "cells": [
  {
   "cell_type": "markdown",
   "metadata": {},
   "source": [
    "# Email Validation\n",
    "- Please use this notebook to complete assignment two of the data engineering take home challenge.\n",
    "- The goal is to validate email addresses for all companies with HIGH buying intent.\n",
    "- Please sign up for a free account at AbstractAPI and use their API for email validation (https://docs.abstractapi.com/email-validation, the free account covers 100 email verifications, which should be plenty).\n",
    "- Your final output should be 2-column data frame and it should not take you longer than 1h to get there.\n",
    "- Please write your final validation results to `data/valid_emails.csv` and then import it back into the CRM database (you'll need it for the last assignment).\n",
    "- We've prepared an example list of validated email addresses for you. You can that to import it back into the CRM database in case you get stuck."
   ]
  },
  {
   "cell_type": "code",
   "execution_count": 2,
   "metadata": {},
   "outputs": [
    {
     "data": {
      "text/html": [
       "<div>\n",
       "<style scoped>\n",
       "    .dataframe tbody tr th:only-of-type {\n",
       "        vertical-align: middle;\n",
       "    }\n",
       "\n",
       "    .dataframe tbody tr th {\n",
       "        vertical-align: top;\n",
       "    }\n",
       "\n",
       "    .dataframe thead th {\n",
       "        text-align: right;\n",
       "    }\n",
       "</style>\n",
       "<table border=\"1\" class=\"dataframe\">\n",
       "  <thead>\n",
       "    <tr style=\"text-align: right;\">\n",
       "      <th></th>\n",
       "      <th>id</th>\n",
       "      <th>address</th>\n",
       "      <th>domain</th>\n",
       "      <th>_dlt_load_id</th>\n",
       "      <th>_dlt_id</th>\n",
       "    </tr>\n",
       "  </thead>\n",
       "  <tbody>\n",
       "    <tr>\n",
       "      <th>0</th>\n",
       "      <td>5355564e-bf45-4e91-b17a-3394349bf1fa</td>\n",
       "      <td>7694 White Land Suite 336, East Adamstad, IA 9...</td>\n",
       "      <td>joyce.com</td>\n",
       "      <td>1715078125.699438</td>\n",
       "      <td>UjnBCtVe2IisNQ</td>\n",
       "    </tr>\n",
       "    <tr>\n",
       "      <th>1</th>\n",
       "      <td>5a121ab4-94d3-4edb-8e85-df27753a260f</td>\n",
       "      <td>5455 Butler Camp Suite 688, Millerstad, AK 89102</td>\n",
       "      <td>walters.com</td>\n",
       "      <td>1715078125.699438</td>\n",
       "      <td>QW2YrKkk90yM9Q</td>\n",
       "    </tr>\n",
       "    <tr>\n",
       "      <th>2</th>\n",
       "      <td>2faf7069-e82d-4763-a85a-11eea6c3ae87</td>\n",
       "      <td>USNV May, FPO AP 47911</td>\n",
       "      <td>jackson-sandoval.org</td>\n",
       "      <td>1715078125.699438</td>\n",
       "      <td>Wcr9LbK3LYj2nQ</td>\n",
       "    </tr>\n",
       "    <tr>\n",
       "      <th>3</th>\n",
       "      <td>9267da0b-2a50-4859-9203-3cb6c375bedc</td>\n",
       "      <td>43981 Danny Place Apt. 722, Webbmouth, RI 80991</td>\n",
       "      <td>gonzalez.biz</td>\n",
       "      <td>1715078125.699438</td>\n",
       "      <td>n/dU5PDEIZdFOQ</td>\n",
       "    </tr>\n",
       "    <tr>\n",
       "      <th>4</th>\n",
       "      <td>57fb99b9-921e-45f6-af5e-01e297b46d50</td>\n",
       "      <td>94190 Kimberly Shore Suite 258, West Rachelpor...</td>\n",
       "      <td>edwards-cunningham.com</td>\n",
       "      <td>1715078125.699438</td>\n",
       "      <td>VKikJ8h68JTf7g</td>\n",
       "    </tr>\n",
       "  </tbody>\n",
       "</table>\n",
       "</div>"
      ],
      "text/plain": [
       "                                     id  \\\n",
       "0  5355564e-bf45-4e91-b17a-3394349bf1fa   \n",
       "1  5a121ab4-94d3-4edb-8e85-df27753a260f   \n",
       "2  2faf7069-e82d-4763-a85a-11eea6c3ae87   \n",
       "3  9267da0b-2a50-4859-9203-3cb6c375bedc   \n",
       "4  57fb99b9-921e-45f6-af5e-01e297b46d50   \n",
       "\n",
       "                                             address                  domain  \\\n",
       "0  7694 White Land Suite 336, East Adamstad, IA 9...               joyce.com   \n",
       "1   5455 Butler Camp Suite 688, Millerstad, AK 89102             walters.com   \n",
       "2                             USNV May, FPO AP 47911    jackson-sandoval.org   \n",
       "3    43981 Danny Place Apt. 722, Webbmouth, RI 80991            gonzalez.biz   \n",
       "4  94190 Kimberly Shore Suite 258, West Rachelpor...  edwards-cunningham.com   \n",
       "\n",
       "        _dlt_load_id         _dlt_id  \n",
       "0  1715078125.699438  UjnBCtVe2IisNQ  \n",
       "1  1715078125.699438  QW2YrKkk90yM9Q  \n",
       "2  1715078125.699438  Wcr9LbK3LYj2nQ  \n",
       "3  1715078125.699438  n/dU5PDEIZdFOQ  \n",
       "4  1715078125.699438  VKikJ8h68JTf7g  "
      ]
     },
     "execution_count": 2,
     "metadata": {},
     "output_type": "execute_result"
    }
   ],
   "source": [
    "# example for how to run SQL queries on the local CRM database\n",
    "import duckdb\n",
    "con = duckdb.connect(\"data/db.duckdb\")\n",
    "companies = con.sql(\"select * from crm.companies\").to_df()\n",
    "companies.head()\n"
   ]
  },
  {
   "cell_type": "code",
   "execution_count": null,
   "metadata": {},
   "outputs": [],
   "source": [
    "# Please use the space below for your email validation logic. \n",
    "# You can add any number of notebook cells you need to structure your solution appropriately.\n"
   ]
  },
  {
   "cell_type": "code",
   "execution_count": null,
   "metadata": {},
   "outputs": [],
   "source": [
    "# final step\n",
    "valid_emails.to_csv(\"data/valid_emails.csv\")\n",
    "con.sql(\"create table crm.valid_emails as from read_csv('data/valid_emails.csv')\")\n"
   ]
  }
 ],
 "metadata": {
  "kernelspec": {
   "display_name": "thc",
   "language": "python",
   "name": "python3"
  },
  "language_info": {
   "codemirror_mode": {
    "name": "ipython",
    "version": 3
   },
   "file_extension": ".py",
   "mimetype": "text/x-python",
   "name": "python",
   "nbconvert_exporter": "python",
   "pygments_lexer": "ipython3",
   "version": "3.12.3"
  }
 },
 "nbformat": 4,
 "nbformat_minor": 2
}
