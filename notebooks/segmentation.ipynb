{
 "cells": [
  {
   "cell_type": "markdown",
   "metadata": {},
   "source": [
    "# Intent-Based Customer Segmentation\n",
    "- Please use this notebook to complete assignment one of the data engineering take home challenge.\n",
    "- Your goal is to derive a customer segmentation based on `HIGH`, `MEDIUM`, or `LOW` buying-intent only using SQL.\n",
    "- Your final output should be 2-column table (`company_id`, `buying_intent`) and it should not take you longer than 1h to get there."
   ]
  },
  {
   "cell_type": "code",
   "execution_count": 2,
   "metadata": {},
   "outputs": [],
   "source": [
    "import duckdb\n",
    "con = duckdb.connect(\"data/db.duckdb\")\n"
   ]
  },
  {
   "cell_type": "code",
   "execution_count": 6,
   "metadata": {},
   "outputs": [],
   "source": [
    "# Please use the space below to express your segmentation logic in SQL and write it back into the CRM database. \n",
    "con.sql(\n",
    "    \"\"\"\n",
    "    create or replace table crm.customer_buying_intent as (\n",
    "        -- your segmentation query goes here\n",
    "    )\n",
    "    \"\"\"\n",
    ")\n"
   ]
  },
  {
   "cell_type": "code",
   "execution_count": null,
   "metadata": {},
   "outputs": [],
   "source": [
    "# Backup: In case you get stuck above, you can run this cell to import the segmentation logic from pre-made csv file\n",
    "con.sql(\"create table crm.customer_buying_intent as from read_csv('data/customer_segments.csv')\")\n"
   ]
  }
 ],
 "metadata": {
  "kernelspec": {
   "display_name": "thc",
   "language": "python",
   "name": "python3"
  },
  "language_info": {
   "codemirror_mode": {
    "name": "ipython",
    "version": 3
   },
   "file_extension": ".py",
   "mimetype": "text/x-python",
   "name": "python",
   "nbconvert_exporter": "python",
   "pygments_lexer": "ipython3",
   "version": "3.12.3"
  }
 },
 "nbformat": 4,
 "nbformat_minor": 2
}
