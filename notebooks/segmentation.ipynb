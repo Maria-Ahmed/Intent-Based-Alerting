{
 "cells": [
  {
   "cell_type": "markdown",
   "metadata": {},
   "source": [
    "# Intent-Based Customer Segmentation\n",
    "- Please use this notebook to complete assignment one of the data engineering take home challenge.\n",
    "- Your goal is to derive a customer segmentation based on high, medium, or low buying-intent .\n",
    "- Your final output should be 2-column data frame and it should not take you longer than 1.5h to get there.\n",
    "- Please write your final segmentation to `data/customer_segments.csv` and then import it back into the CRM database (you'll need it for the follow-up assignments).\n",
    "- We've prepared an example segmentation for you. You can that to import it back into the CRM database in case you get stuck."
   ]
  },
  {
   "cell_type": "code",
   "execution_count": 2,
   "metadata": {},
   "outputs": [],
   "source": [
    "# example for how to run SQL queries on the local CRM database\n",
    "import duckdb\n",
    "con = duckdb.connect(\"data/db.duckdb\")\n",
    "companies = con.sql(\"select * from crm.companies\").to_df()\n",
    "companies.head()\n"
   ]
  },
  {
   "cell_type": "code",
   "execution_count": 6,
   "metadata": {},
   "outputs": [],
   "source": [
    "# Please use the space below for your segmentation logic. \n",
    "# You can add any number of notebook cells you need to structure your solution appropriately.\n"
   ]
  },
  {
   "cell_type": "code",
   "execution_count": null,
   "metadata": {},
   "outputs": [],
   "source": [
    "# final step\n",
    "customer_segments.to_csv(\"data/customer_segments.csv\")\n",
    "con.sql(\"create table crm.customer_buying_intent as from read_csv('data/customer_segments.csv')\")\n"
   ]
  }
 ],
 "metadata": {
  "kernelspec": {
   "display_name": "thc",
   "language": "python",
   "name": "python3"
  },
  "language_info": {
   "codemirror_mode": {
    "name": "ipython",
    "version": 3
   },
   "file_extension": ".py",
   "mimetype": "text/x-python",
   "name": "python",
   "nbconvert_exporter": "python",
   "pygments_lexer": "ipython3",
   "version": "3.12.3"
  }
 },
 "nbformat": 4,
 "nbformat_minor": 2
}
