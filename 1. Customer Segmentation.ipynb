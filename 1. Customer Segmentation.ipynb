{
 "cells": [
  {
   "cell_type": "code",
   "execution_count": 31,
   "id": "6056e4f4",
   "metadata": {},
   "outputs": [],
   "source": [
    "import duckdb\n",
    "from datetime import datetime, timedelta\n",
    "con = duckdb.connect(\"data/db.duckdb\", read_only=False)"
   ]
  },
  {
   "cell_type": "code",
   "execution_count": 32,
   "id": "f9af3a91",
   "metadata": {},
   "outputs": [],
   "source": [
    "# dates\n",
    "today = datetime(2024, 4, 30)\n",
    "seven_days_ago = (today - timedelta(days=7)).strftime(\"%Y-%m-%d\")\n",
    "thirty_days_ago = (today - timedelta(days=30)).strftime(\"%Y-%m-%d\")\n",
    "\n",
    "# if table exists, then drop\n",
    "con.sql(\"DROP TABLE IF EXISTS crm.customer_buying_intent\")\n",
    "\n",
    "# creating table + query\n",
    "con.sql(\"\"\"\n",
    "CREATE TABLE crm.customer_buying_intent AS (\n",
    "    SELECT c.id as company_id,\n",
    "           CASE\n",
    "             WHEN EXISTS(\n",
    "                    SELECT 1\n",
    "                    FROM   crm.website_visits wv\n",
    "                    WHERE  Substring(email FROM Position('@' IN email) + 1) = c.domain\n",
    "                           AND wv.event_date_utc >= ?\n",
    "                 )\n",
    "                  AND EXISTS (\n",
    "                    SELECT 1\n",
    "                    FROM   crm.news_publications np\n",
    "                    WHERE  REPLACE(REPLACE(REPLACE(company_website, 'http://', ''), 'https://', ''), 'www.', '') = c.domain\n",
    "                           AND np.publication_date_utc >= ?\n",
    "                 ) THEN 'HIGH'\n",
    "             WHEN EXISTS(\n",
    "                    SELECT 1\n",
    "                    FROM   crm.news_publications np\n",
    "                    WHERE  REPLACE(REPLACE(REPLACE(company_website, 'http://', ''), 'https://', ''), 'www.', '') = c.domain\n",
    "                           AND np.publication_date_utc >= ?\n",
    "                 ) THEN 'MEDIUM'\n",
    "             ELSE 'LOW'\n",
    "           END AS buying_intent\n",
    "    FROM   crm.companies c\n",
    ")\n",
    "\"\"\", params=[seven_days_ago, seven_days_ago, thirty_days_ago])\n"
   ]
  },
  {
   "cell_type": "code",
   "execution_count": 33,
   "id": "a0cb3f5e",
   "metadata": {},
   "outputs": [
    {
     "data": {
      "text/plain": [
       "┌──────────────────────────────────────┬───────────────┐\n",
       "│              company_id              │ buying_intent │\n",
       "│               varchar                │    varchar    │\n",
       "├──────────────────────────────────────┼───────────────┤\n",
       "│ 5355564e-bf45-4e91-b17a-3394349bf1fa │ MEDIUM        │\n",
       "│ 5a121ab4-94d3-4edb-8e85-df27753a260f │ LOW           │\n",
       "│ 2faf7069-e82d-4763-a85a-11eea6c3ae87 │ LOW           │\n",
       "│ 9267da0b-2a50-4859-9203-3cb6c375bedc │ MEDIUM        │\n",
       "│ 57fb99b9-921e-45f6-af5e-01e297b46d50 │ LOW           │\n",
       "│ db0076e7-2cbd-4487-b901-36dfb30022e0 │ MEDIUM        │\n",
       "│ 6b0e6cc9-c0b1-4cc6-9651-511ccae9d2c3 │ LOW           │\n",
       "│ 8da397da-e1fa-4f03-ac32-4ec0d1440f8a │ MEDIUM        │\n",
       "│ d79c31c7-e8f5-4a99-85df-6489d2cc93de │ LOW           │\n",
       "│ 3ca29658-233f-4f74-bbd1-a23ea9960709 │ LOW           │\n",
       "│                  ·                   │  ·            │\n",
       "│                  ·                   │  ·            │\n",
       "│                  ·                   │  ·            │\n",
       "│ 2d37dde9-2238-4b46-92cf-5b39e0f2cf98 │ LOW           │\n",
       "│ 29e616cc-a1e4-499b-9ab5-03c6dbe4acf1 │ LOW           │\n",
       "│ bf401172-ccee-463f-bede-f2c200f6cc8b │ LOW           │\n",
       "│ 27ab1b8f-6ad0-4813-a131-37d42d2b4eeb │ LOW           │\n",
       "│ b56c613f-aeec-467f-a8a8-c9d7d5d69f39 │ LOW           │\n",
       "│ 3e01bf37-3ce7-4a66-bd08-04288307e573 │ LOW           │\n",
       "│ abb30a8d-2635-4f4e-af14-25e5a8991ab4 │ LOW           │\n",
       "│ c16e1a92-fa26-48ad-84cd-14a5d1ac2a3f │ LOW           │\n",
       "│ af39ccea-7384-40d3-bbf3-78ffe3d9df97 │ LOW           │\n",
       "│ eab25265-1764-4b4f-a8ad-d918d9b58f42 │ LOW           │\n",
       "├──────────────────────────────────────┴───────────────┤\n",
       "│ 100 rows (20 shown)                        2 columns │\n",
       "└──────────────────────────────────────────────────────┘"
      ]
     },
     "execution_count": 33,
     "metadata": {},
     "output_type": "execute_result"
    }
   ],
   "source": [
    "con.commit() \n",
    "con.sql(\n",
    "\"\"\"\n",
    "SELECT * FROM crm.customer_buying_intent\n",
    "\"\"\")"
   ]
  },
  {
   "cell_type": "code",
   "execution_count": 34,
   "id": "d4f5d24e",
   "metadata": {},
   "outputs": [],
   "source": [
    "con.close()"
   ]
  },
  {
   "cell_type": "code",
   "execution_count": null,
   "id": "daa1d310",
   "metadata": {},
   "outputs": [],
   "source": []
  }
 ],
 "metadata": {
  "kernelspec": {
   "display_name": "Python 3 (ipykernel)",
   "language": "python",
   "name": "python3"
  },
  "language_info": {
   "codemirror_mode": {
    "name": "ipython",
    "version": 3
   },
   "file_extension": ".py",
   "mimetype": "text/x-python",
   "name": "python",
   "nbconvert_exporter": "python",
   "pygments_lexer": "ipython3",
   "version": "3.9.13"
  }
 },
 "nbformat": 4,
 "nbformat_minor": 5
}
