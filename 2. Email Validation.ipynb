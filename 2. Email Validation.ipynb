{
 "cells": [
  {
   "cell_type": "code",
   "execution_count": 6,
   "id": "40b14bdd",
   "metadata": {},
   "outputs": [],
   "source": [
    "import duckdb\n",
    "import requests\n",
    "import time\n",
    "con = duckdb.connect(\"data/db.duckdb\")"
   ]
  },
  {
   "cell_type": "code",
   "execution_count": 7,
   "id": "8aa6e775",
   "metadata": {},
   "outputs": [
    {
     "name": "stdout",
     "output_type": "stream",
     "text": [
      "                                  email\n",
      "0    alvarado.alvarado@becker-moore.net\n",
      "1            love.love@becker-moore.net\n",
      "2        holloway.holloway@crawford.com\n",
      "3  gillespie.gillespie@pena-schmidt.com\n",
      "4                  buck.buck@malone.com\n",
      "5                lopez.lopez@malone.com\n",
      "6              white.white@cummings.net\n",
      "7       rodriguez.rodriguez@collins.com\n"
     ]
    }
   ],
   "source": [
    "validation_candidates = con.sql(\n",
    "    \"\"\"\n",
    "    select\n",
    "        co.email\n",
    "    from crm.contacts as co\n",
    "    left join crm.companies as c\n",
    "        on co.company_id = c.id\n",
    "    left join crm.customer_buying_intent as bi\n",
    "        on bi.company_id = c.id\n",
    "    where bi.buying_intent = 'HIGH'\n",
    "    \"\"\"\n",
    ").to_df()\n",
    "\n",
    "print(validation_candidates)"
   ]
  },
  {
   "cell_type": "code",
   "execution_count": 8,
   "id": "9ba6462c",
   "metadata": {},
   "outputs": [
    {
     "name": "stdout",
     "output_type": "stream",
     "text": [
      "[('alvarado.alvarado@becker-moore.net', False), ('love.love@becker-moore.net', False), ('holloway.holloway@crawford.com', True), ('gillespie.gillespie@pena-schmidt.com', False), ('buck.buck@malone.com', False), ('lopez.lopez@malone.com', False), ('white.white@cummings.net', True), ('rodriguez.rodriguez@collins.com', False)]\n"
     ]
    }
   ],
   "source": [
    "#  email validation logic in python and back into CRM database.\n",
    "api_key = 'b050890a542e41ef8e2e64eca20896d2'\n",
    "email_list = validation_candidates['email'].tolist()\n",
    "\n",
    "emails = []\n",
    "for candidate_email in email_list:\n",
    "  response = requests.get(f\"https://emailvalidation.abstractapi.com/v1/?api_key={api_key}&email={candidate_email}\")\n",
    "\n",
    "  is_email_valid=False\n",
    "  if response.status_code == 200 and response.json()['is_smtp_valid'][\"value\"] == True and response.json()['is_mx_found'][\"value\"] == True:\n",
    "    is_email_valid = True\n",
    "  emails.append((candidate_email, is_email_valid))\n",
    "  time.sleep(1) # Sleep to not exceed request per second\n",
    "\n",
    "print(emails)"
   ]
  },
  {
   "cell_type": "code",
   "execution_count": 16,
   "id": "17b39031",
   "metadata": {},
   "outputs": [
    {
     "name": "stdout",
     "output_type": "stream",
     "text": [
      "[('alvarado.alvarado@becker-moore.net', False), ('love.love@becker-moore.net', False), ('holloway.holloway@crawford.com', True), ('gillespie.gillespie@pena-schmidt.com', False), ('buck.buck@malone.com', False), ('lopez.lopez@malone.com', False), ('white.white@cummings.net', True), ('rodriguez.rodriguez@collins.com', False)]\n"
     ]
    },
    {
     "data": {
      "text/plain": [
       "┌──────────────────────────────────────┬────────────────┐\n",
       "│                email                 │ is_email_valid │\n",
       "│               varchar                │    varchar     │\n",
       "├──────────────────────────────────────┼────────────────┤\n",
       "│ alvarado.alvarado@becker-moore.net   │ false          │\n",
       "│ love.love@becker-moore.net           │ false          │\n",
       "│ holloway.holloway@crawford.com       │ true           │\n",
       "│ gillespie.gillespie@pena-schmidt.com │ false          │\n",
       "│ buck.buck@malone.com                 │ false          │\n",
       "│ lopez.lopez@malone.com               │ false          │\n",
       "│ white.white@cummings.net             │ true           │\n",
       "│ rodriguez.rodriguez@collins.com      │ false          │\n",
       "└──────────────────────────────────────┴────────────────┘"
      ]
     },
     "execution_count": 16,
     "metadata": {},
     "output_type": "execute_result"
    }
   ],
   "source": [
    "con.execute(\"\"\"\n",
    "    CREATE TABLE IF NOT EXISTS crm.valid_emails (\n",
    "        email VARCHAR,\n",
    "        is_email_valid VARCHAR\n",
    "    )\n",
    "\"\"\")\n",
    "\n",
    "# inserting data \n",
    "con.executemany(\"INSERT INTO crm.valid_emails VALUES (?, ?)\", emails)\n",
    "\n",
    "con.sql(\"\"\"\n",
    "SELECT * FROM crm.valid_emails\n",
    "\"\"\"\n",
    ")"
   ]
  },
  {
   "cell_type": "code",
   "execution_count": 17,
   "id": "339993a1",
   "metadata": {},
   "outputs": [],
   "source": [
    "con.close()"
   ]
  },
  {
   "cell_type": "code",
   "execution_count": null,
   "id": "c8bd608f",
   "metadata": {},
   "outputs": [],
   "source": []
  }
 ],
 "metadata": {
  "kernelspec": {
   "display_name": "Python 3 (ipykernel)",
   "language": "python",
   "name": "python3"
  },
  "language_info": {
   "codemirror_mode": {
    "name": "ipython",
    "version": 3
   },
   "file_extension": ".py",
   "mimetype": "text/x-python",
   "name": "python",
   "nbconvert_exporter": "python",
   "pygments_lexer": "ipython3",
   "version": "3.9.13"
  }
 },
 "nbformat": 4,
 "nbformat_minor": 5
}
